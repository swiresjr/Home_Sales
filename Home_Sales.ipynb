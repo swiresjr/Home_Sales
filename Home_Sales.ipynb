{
  "cells": [
    {
      "cell_type": "code",
      "execution_count": 1,
      "metadata": {
        "colab": {
          "base_uri": "https://localhost:8080/"
        },
        "id": "a_KW73O2e3dw",
        "outputId": "e6f164a5-c684-4b84-e454-abc172fc43fe"
      },
      "outputs": [
        {
          "output_type": "stream",
          "name": "stdout",
          "text": [
            "Hit:1 http://security.ubuntu.com/ubuntu jammy-security InRelease\n",
            "Hit:2 http://archive.ubuntu.com/ubuntu jammy InRelease\n",
            "Hit:3 http://archive.ubuntu.com/ubuntu jammy-updates InRelease\n",
            "Hit:4 http://archive.ubuntu.com/ubuntu jammy-backports InRelease\n",
            "Hit:5 https://developer.download.nvidia.com/compute/cuda/repos/ubuntu2204/x86_64  InRelease\n",
            "Hit:6 https://cloud.r-project.org/bin/linux/ubuntu jammy-cran40/ InRelease\n",
            "Hit:7 https://r2u.stat.illinois.edu/ubuntu jammy InRelease\n",
            "Hit:8 https://ppa.launchpadcontent.net/deadsnakes/ppa/ubuntu jammy InRelease\n",
            "Hit:9 https://ppa.launchpadcontent.net/graphics-drivers/ppa/ubuntu jammy InRelease\n",
            "Hit:10 https://ppa.launchpadcontent.net/ubuntugis/ppa/ubuntu jammy InRelease\n",
            "Reading package lists... Done\n",
            "W: Skipping acquire of configured file 'main/source/Sources' as repository 'https://r2u.stat.illinois.edu/ubuntu jammy InRelease' does not seem to provide it (sources.list entry misspelt?)\n"
          ]
        }
      ],
      "source": [
        "import os\n",
        "# Find the latest version of spark 3.x  from http://www.apache.org/dist/spark/ and enter as the spark version\n",
        "# For example:\n",
        "# spark_version = 'spark-3.4.0'\n",
        "spark_version = 'spark-3.5.4'\n",
        "os.environ['SPARK_VERSION']=spark_version\n",
        "\n",
        "# Install Spark and Java\n",
        "!apt-get update\n",
        "!apt-get install openjdk-11-jdk-headless -qq > /dev/null\n",
        "!wget -q http://www.apache.org/dist/spark/$SPARK_VERSION/$SPARK_VERSION-bin-hadoop3.tgz\n",
        "!tar xf $SPARK_VERSION-bin-hadoop3.tgz\n",
        "!pip install -q findspark\n",
        "\n",
        "# Set Environment Variables\n",
        "os.environ[\"JAVA_HOME\"] = \"/usr/lib/jvm/java-11-openjdk-amd64\"\n",
        "os.environ[\"SPARK_HOME\"] = f\"/content/{spark_version}-bin-hadoop3\"\n",
        "\n",
        "# Start a SparkSession\n",
        "import findspark\n",
        "findspark.init()"
      ]
    },
    {
      "cell_type": "code",
      "execution_count": 2,
      "metadata": {
        "id": "2XbWNf1Te5fM"
      },
      "outputs": [],
      "source": [
        "# Import packages\n",
        "from pyspark.sql import SparkSession\n",
        "from pyspark.sql.functions import round, col, to_date\n",
        "from pyspark.sql.functions import year, avg, round, col\n",
        "import time\n",
        "\n",
        "# Create a SparkSession\n",
        "spark = SparkSession.builder.appName(\"HomeSalesAnalysis\").getOrCreate()"
      ]
    },
    {
      "cell_type": "code",
      "execution_count": 3,
      "metadata": {
        "id": "wOJqxG_RPSwp",
        "colab": {
          "base_uri": "https://localhost:8080/"
        },
        "outputId": "3adfb827-5b07-4135-a9ff-8050ca4a879c"
      },
      "outputs": [
        {
          "output_type": "stream",
          "name": "stdout",
          "text": [
            "+--------------------+----------+----------+------+--------+---------+-----------+--------+------+----------+----+\n",
            "|                  id|      date|date_built| price|bedrooms|bathrooms|sqft_living|sqft_lot|floors|waterfront|view|\n",
            "+--------------------+----------+----------+------+--------+---------+-----------+--------+------+----------+----+\n",
            "|f8a53099-ba1c-47d...|2022-04-08|      2016|936923|       4|        3|       3167|   11733|     2|         1|  76|\n",
            "|7530a2d8-1ae3-451...|2021-06-13|      2013|379628|       2|        2|       2235|   14384|     1|         0|  23|\n",
            "|43de979c-0bf0-4c9...|2019-04-12|      2014|417866|       2|        2|       2127|   10575|     2|         0|   0|\n",
            "|b672c137-b88c-48b...|2019-10-16|      2016|239895|       2|        2|       1631|   11149|     2|         0|   0|\n",
            "|e0726d4d-d595-407...|2022-01-08|      2017|424418|       3|        2|       2249|   13878|     2|         0|   4|\n",
            "|5aa00529-0533-46b...|2019-01-30|      2017|218712|       2|        3|       1965|   14375|     2|         0|   7|\n",
            "|131492a1-72e2-4a8...|2020-02-08|      2017|419199|       2|        3|       2062|    8876|     2|         0|   6|\n",
            "|8d54a71b-c520-44e...|2019-07-21|      2010|323956|       2|        3|       1506|   11816|     1|         0|  25|\n",
            "|e81aacfe-17fe-46b...|2020-06-16|      2016|181925|       3|        3|       2137|   11709|     2|         0|  22|\n",
            "|2ed8d509-7372-46d...|2021-08-06|      2015|258710|       3|        3|       1918|    9666|     1|         0|  25|\n",
            "|f876d86f-3c9f-42b...|2019-02-27|      2011|167864|       3|        3|       2471|   13924|     2|         0|  15|\n",
            "|0a2bd445-8508-4d8...|2021-12-30|      2014|337527|       2|        3|       1926|   12556|     1|         0|  23|\n",
            "|941bad30-eb49-4a7...|2020-05-09|      2015|229896|       3|        3|       2197|    8641|     1|         0|   3|\n",
            "|dd61eb34-6589-4c0...|2021-07-25|      2016|210247|       3|        2|       1672|   11986|     2|         0|  28|\n",
            "|f1e4cef7-d151-439...|2019-02-01|      2011|398667|       2|        3|       2331|   11356|     1|         0|   7|\n",
            "|ea620c7b-c2f7-4c6...|2021-05-31|      2011|437958|       3|        3|       2356|   11052|     1|         0|  26|\n",
            "|f233cb41-6f33-4b0...|2021-07-18|      2016|437375|       4|        3|       1704|   11721|     2|         0|  34|\n",
            "|c797ca12-52cd-4b1...|2019-06-08|      2015|288650|       2|        3|       2100|   10419|     2|         0|   7|\n",
            "|0cfe57f3-28c2-472...|2019-10-04|      2015|308313|       3|        3|       1960|    9453|     2|         0|   2|\n",
            "|4566cd2a-ac6e-435...|2019-07-15|      2016|177541|       3|        3|       2130|   10517|     2|         0|  25|\n",
            "+--------------------+----------+----------+------+--------+---------+-----------+--------+------+----------+----+\n",
            "only showing top 20 rows\n",
            "\n"
          ]
        }
      ],
      "source": [
        "# 1. Read in the AWS S3 bucket into a DataFrame.\n",
        "from pyspark import SparkFiles\n",
        "url = \"https://2u-data-curriculum-team.s3.amazonaws.com/dataviz-classroom/v1.2/22-big-data/home_sales_revised.csv\"\n",
        "spark.sparkContext.addFile(url)\n",
        "house_sales_df = spark.read.option('header', 'true').csv(SparkFiles.get(\"home_sales_revised.csv\"), inferSchema=True, sep=',', timestampFormat=\"mm/dd/yy\")\n",
        "\n",
        "# Show DataFrame\n",
        "house_sales_df.show()"
      ]
    },
    {
      "cell_type": "code",
      "execution_count": 4,
      "metadata": {
        "id": "RoljcJ7WPpnm"
      },
      "outputs": [],
      "source": [
        "# 2. Create a temporary view of the DataFrame.\n",
        "from pyspark.sql import SparkSession\n",
        "house_sales_df.createOrReplaceTempView('home_sales')\n"
      ]
    },
    {
      "cell_type": "code",
      "execution_count": 5,
      "metadata": {
        "id": "L6fkwOeOmqvq",
        "colab": {
          "base_uri": "https://localhost:8080/"
        },
        "outputId": "5d7c0397-9ccc-48f2-f351-07f0626d0f18"
      },
      "outputs": [
        {
          "output_type": "stream",
          "name": "stdout",
          "text": [
            "Average price of 4 bedroom house sold per year\n",
            "+----------+-------------+\n",
            "|date_built|average_price|\n",
            "+----------+-------------+\n",
            "|2010      |296800.75    |\n",
            "|2011      |302141.9     |\n",
            "|2012      |298233.42    |\n",
            "|2013      |299999.39    |\n",
            "|2014      |299073.89    |\n",
            "|2015      |307908.86    |\n",
            "|2016      |296050.24    |\n",
            "|2017      |296576.69    |\n",
            "+----------+-------------+\n",
            "\n"
          ]
        }
      ],
      "source": [
        "# 3. What is the average price for a four bedroom house sold per year, rounded to two decimal places?\n",
        "filtered_houses_df_1 = house_sales_df.filter((col(\"bedrooms\") == 4))\n",
        "\n",
        "# Group by date_built (which is an INT representing the year) and calculate the average price\n",
        "avg_price_4br_year = filtered_houses_df_1.groupBy(\"date_built\") \\\n",
        "    .agg(round(avg(col(\"price\")), 2).alias(\"average_price\")) \\\n",
        "    .orderBy(\"date_built\")\n",
        "\n",
        "# Show the results\n",
        "print(\"Average price of 4 bedroom house sold per year\")\n",
        "avg_price_4br_year.show(truncate=False)"
      ]
    },
    {
      "cell_type": "code",
      "execution_count": 6,
      "metadata": {
        "id": "l8p_tUS8h8it",
        "colab": {
          "base_uri": "https://localhost:8080/"
        },
        "outputId": "1c216a97-9ed1-4930-ed5d-41200aee79a4"
      },
      "outputs": [
        {
          "output_type": "stream",
          "name": "stdout",
          "text": [
            "Average price of 3 bedroom, 3 bathroom house sold per year\n",
            "+----------+-------------+\n",
            "|date_built|average_price|\n",
            "+----------+-------------+\n",
            "|2010      |292859.62    |\n",
            "|2011      |291117.47    |\n",
            "|2012      |293683.19    |\n",
            "|2013      |295962.27    |\n",
            "|2014      |290852.27    |\n",
            "|2015      |288770.3     |\n",
            "|2016      |290555.07    |\n",
            "|2017      |292676.79    |\n",
            "+----------+-------------+\n",
            "\n"
          ]
        }
      ],
      "source": [
        "# 4. What is the average price of a home for each year the home was built,\n",
        "# that have 3 bedrooms and 3 bathrooms, rounded to two decimal places?\n",
        "filtered_houses_df_2 = house_sales_df.filter((col(\"bedrooms\") == 3) & (col(\"bathrooms\") == 3))\n",
        "\n",
        "# Group by date_built (which is an INT representing the year) and calculate the average price\n",
        "avg_price_3br_3ba_year = filtered_houses_df_2.groupBy(\"date_built\") \\\n",
        "    .agg(round(avg(col(\"price\")), 2).alias(\"average_price\")) \\\n",
        "    .orderBy(\"date_built\")\n",
        "\n",
        "# Show the results\n",
        "print(\"Average price of 3 bedroom, 3 bathroom house sold per year\")\n",
        "avg_price_3br_3ba_year.show(truncate=False)"
      ]
    },
    {
      "cell_type": "code",
      "execution_count": 7,
      "metadata": {
        "id": "Y-Eytz64liDU",
        "colab": {
          "base_uri": "https://localhost:8080/"
        },
        "outputId": "a4e09c19-7a8b-41a7-c888-45e0c45b3a14"
      },
      "outputs": [
        {
          "output_type": "stream",
          "name": "stdout",
          "text": [
            "Average price of 3 bedroom, 3 bathroom, 2 floor and 2,000+ sqft house sold per year\n",
            "+----------+-------------+\n",
            "|date_built|average_price|\n",
            "+----------+-------------+\n",
            "|2010      |285010.22    |\n",
            "|2011      |276553.81    |\n",
            "|2012      |307539.97    |\n",
            "|2013      |303676.79    |\n",
            "|2014      |298264.72    |\n",
            "|2015      |297609.97    |\n",
            "|2016      |293965.1     |\n",
            "|2017      |280317.58    |\n",
            "+----------+-------------+\n",
            "\n"
          ]
        }
      ],
      "source": [
        "# 5. What is the average price of a home for each year the home was built,\n",
        "# that have 3 bedrooms, 3 bathrooms, with two floors,\n",
        "# and are greater than or equal to 2,000 square feet, rounded to two decimal places?\n",
        "# Filter the DataFrame for homes with 3 bedrooms, 3 bathrooms, 2 floors, and >= 2000 square feet\n",
        "filtered_houses_df_3 = house_sales_df.filter(\n",
        "    (col(\"bedrooms\") == 3) &\n",
        "    (col(\"bathrooms\") == 3) &\n",
        "    (col(\"floors\") == 2) &\n",
        "    (col(\"sqft_living\") >= 2000)\n",
        ")\n",
        "\n",
        "# Group by date_built (which is an INT representing the year) and calculate the average price\n",
        "avg_price_2fl_2000sqft_year = filtered_houses_df_3.groupBy(\"date_built\") \\\n",
        "    .agg(round(avg(col(\"price\")), 2).alias(\"average_price\")) \\\n",
        "    .orderBy(\"date_built\")\n",
        "\n",
        "# Show the results\n",
        "print(\"Average price of 3 bedroom, 3 bathroom, 2 floor and 2,000+ sqft house sold per year\")\n",
        "avg_price_2fl_2000sqft_year.show(truncate=False)\n"
      ]
    },
    {
      "cell_type": "code",
      "execution_count": 8,
      "metadata": {
        "colab": {
          "base_uri": "https://localhost:8080/"
        },
        "id": "GUrfgOX1pCRd",
        "outputId": "277f9756-f3b2-487f-9466-c06e34d24c29"
      },
      "outputs": [
        {
          "output_type": "stream",
          "name": "stdout",
          "text": [
            "Average price of homes per view rating (>= $350,000):\n",
            "+----+-------------+\n",
            "|view|average_price|\n",
            "+----+-------------+\n",
            "|100 |1026669.5    |\n",
            "|99  |1061201.42   |\n",
            "|98  |1053739.33   |\n",
            "|97  |1129040.15   |\n",
            "|96  |1017815.92   |\n",
            "|95  |1054325.6    |\n",
            "|94  |1033536.2    |\n",
            "|93  |1026006.06   |\n",
            "|92  |970402.55    |\n",
            "|91  |1137372.73   |\n",
            "|90  |1062654.16   |\n",
            "|89  |1107839.15   |\n",
            "|88  |1031719.35   |\n",
            "|87  |1072285.2    |\n",
            "|86  |1070444.25   |\n",
            "|85  |1056336.74   |\n",
            "|84  |1117233.13   |\n",
            "|83  |1033965.93   |\n",
            "|82  |1063498.0    |\n",
            "|81  |1053472.79   |\n",
            "+----+-------------+\n",
            "only showing top 20 rows\n",
            "\n",
            "--- 9.202957153320312e-05 seconds ---\n"
          ]
        }
      ],
      "source": [
        "# 6. What is the average price of a home per \"view\" rating, rounded to two decimal places,\n",
        "# having an average home price greater than or equal to $350,000? Order by descending view rating.\n",
        "# Although this is a small dataset, determine the run time for this query.\n",
        "\n",
        "# Group by \"view\" rating and calculate the average price\n",
        "avg_price_per_view = house_sales_df.groupBy(\"view\") \\\n",
        "    .agg(round(avg(col(\"price\")), 2).alias(\"average_price\")) \\\n",
        "    .filter(col(\"average_price\") >= 350000) \\\n",
        "    .orderBy(col(\"view\").desc())\n",
        "\n",
        "# Show the results\n",
        "print(\"Average price of homes per view rating (>= $350,000):\")\n",
        "avg_price_per_view.show(truncate=False)\n",
        "\n",
        "# Calculate and print the run time\n",
        "start_time = time.time()\n",
        "print(\"--- %s seconds ---\" % (time.time() - start_time))"
      ]
    },
    {
      "cell_type": "code",
      "execution_count": 9,
      "metadata": {
        "id": "KAhk3ZD2tFy8",
        "colab": {
          "base_uri": "https://localhost:8080/"
        },
        "outputId": "3c6141c5-fe15-44cf-de26-a4c17f56c77e"
      },
      "outputs": [
        {
          "output_type": "execute_result",
          "data": {
            "text/plain": [
              "DataFrame[]"
            ]
          },
          "metadata": {},
          "execution_count": 9
        }
      ],
      "source": [
        "# 7. Cache the the temporary table home_sales.\n",
        "spark.sql(\"cache table home_sales\")"
      ]
    },
    {
      "cell_type": "code",
      "execution_count": 10,
      "metadata": {
        "id": "4opVhbvxtL-i",
        "colab": {
          "base_uri": "https://localhost:8080/"
        },
        "outputId": "95d31b64-23fb-4b55-c88d-6df7da08d886"
      },
      "outputs": [
        {
          "output_type": "execute_result",
          "data": {
            "text/plain": [
              "True"
            ]
          },
          "metadata": {},
          "execution_count": 10
        }
      ],
      "source": [
        "# 8. Check if the table is cached.\n",
        "spark.catalog.isCached('home_sales')"
      ]
    },
    {
      "cell_type": "code",
      "execution_count": 11,
      "metadata": {
        "colab": {
          "base_uri": "https://localhost:8080/"
        },
        "id": "5GnL46lwTSEk",
        "outputId": "febd095b-77a4-4382-8591-c7fcd2343cf0"
      },
      "outputs": [
        {
          "output_type": "stream",
          "name": "stdout",
          "text": [
            "Average price of homes per view rating (>= $350,000):\n",
            "+----+-------------+\n",
            "|view|average_price|\n",
            "+----+-------------+\n",
            "|100 |1026669.5    |\n",
            "|99  |1061201.42   |\n",
            "|98  |1053739.33   |\n",
            "|97  |1129040.15   |\n",
            "|96  |1017815.92   |\n",
            "|95  |1054325.6    |\n",
            "|94  |1033536.2    |\n",
            "|93  |1026006.06   |\n",
            "|92  |970402.55    |\n",
            "|91  |1137372.73   |\n",
            "|90  |1062654.16   |\n",
            "|89  |1107839.15   |\n",
            "|88  |1031719.35   |\n",
            "|87  |1072285.2    |\n",
            "|86  |1070444.25   |\n",
            "|85  |1056336.74   |\n",
            "|84  |1117233.13   |\n",
            "|83  |1033965.93   |\n",
            "|82  |1063498.0    |\n",
            "|81  |1053472.79   |\n",
            "+----+-------------+\n",
            "only showing top 20 rows\n",
            "\n",
            "--- 0.00011563301086425781 seconds ---\n"
          ]
        }
      ],
      "source": [
        "# 9. Using the cached data, run the last query above, that calculates\n",
        "# the average price of a home per \"view\" rating, rounded to two decimal places,\n",
        "# having an average home price greater than or equal to $350,000.\n",
        "# Determine the runtime and compare it to the uncached runtime.\n",
        "\n",
        "# Group by \"view\" rating and calculate the average price\n",
        "avg_price_per_view = house_sales_df.groupBy(\"view\") \\\n",
        "    .agg(round(avg(col(\"price\")), 2).alias(\"average_price\")) \\\n",
        "    .filter(col(\"average_price\") >= 350000) \\\n",
        "    .orderBy(col(\"view\").desc())\n",
        "\n",
        "# Show the results\n",
        "print(\"Average price of homes per view rating (>= $350,000):\")\n",
        "avg_price_per_view.show(truncate=False)\n",
        "\n",
        "# Calculate and print the run time\n",
        "start_time = time.time()\n",
        "print(\"--- %s seconds ---\" % (time.time() - start_time))"
      ]
    },
    {
      "cell_type": "code",
      "execution_count": 14,
      "metadata": {
        "id": "Qm12WN9isHBR"
      },
      "outputs": [],
      "source": [
        "# 10. Partition by the \"date_built\" field on the formatted parquet home sales data\n",
        "parquet_df = house_sales_df.write.mode(\"overwrite\").partitionBy(\"date_built\").parquet(\"path/to/save/partitioned_home_sales\")"
      ]
    },
    {
      "cell_type": "code",
      "execution_count": 17,
      "metadata": {
        "id": "AZ7BgY61sRqY"
      },
      "outputs": [],
      "source": [
        "# 11. Read the parquet formatted data.\n",
        "parquet_df = spark.read.parquet(\"path/to/save/partitioned_home_sales\")"
      ]
    },
    {
      "cell_type": "code",
      "execution_count": 18,
      "metadata": {
        "id": "J6MJkHfvVcvh"
      },
      "outputs": [],
      "source": [
        "# 12. Create a temporary table for the parquet data.\n",
        "parquet_df.createOrReplaceTempView('parquet')"
      ]
    },
    {
      "cell_type": "code",
      "execution_count": 19,
      "metadata": {
        "colab": {
          "base_uri": "https://localhost:8080/"
        },
        "id": "G_Vhb52rU1Sn",
        "outputId": "e86952a4-d8a1-45a1-a4df-1799d77306ff"
      },
      "outputs": [
        {
          "output_type": "stream",
          "name": "stdout",
          "text": [
            "Average price of homes per view rating (>= $350,000):\n",
            "+----+-------------+\n",
            "|view|average_price|\n",
            "+----+-------------+\n",
            "|100 |1026669.5    |\n",
            "|99  |1061201.42   |\n",
            "|98  |1053739.33   |\n",
            "|97  |1129040.15   |\n",
            "|96  |1017815.92   |\n",
            "|95  |1054325.6    |\n",
            "|94  |1033536.2    |\n",
            "|93  |1026006.06   |\n",
            "|92  |970402.55    |\n",
            "|91  |1137372.73   |\n",
            "|90  |1062654.16   |\n",
            "|89  |1107839.15   |\n",
            "|88  |1031719.35   |\n",
            "|87  |1072285.2    |\n",
            "|86  |1070444.25   |\n",
            "|85  |1056336.74   |\n",
            "|84  |1117233.13   |\n",
            "|83  |1033965.93   |\n",
            "|82  |1063498.0    |\n",
            "|81  |1053472.79   |\n",
            "+----+-------------+\n",
            "only showing top 20 rows\n",
            "\n",
            "--- 0.000118255615234375 seconds ---\n"
          ]
        }
      ],
      "source": [
        "# 13. Using the parquet DataFrame, run the last query above, that calculates\n",
        "# the average price of a home per \"view\" rating, rounded to two decimal places,\n",
        "# having an average home price greater than or equal to $350,000.\n",
        "# Determine the runtime and compare it to the cached runtime.\n",
        "\n",
        "avg_price_per_view = parquet_df.groupBy(\"view\") \\\n",
        "    .agg(round(avg(col(\"price\")), 2).alias(\"average_price\")) \\\n",
        "    .filter(col(\"average_price\") >= 350000) \\\n",
        "    .orderBy(col(\"view\").desc())\n",
        "\n",
        "# Show the results\n",
        "print(\"Average price of homes per view rating (>= $350,000):\")\n",
        "avg_price_per_view.show(truncate=False)\n",
        "\n",
        "# Calculate and print the run time\n",
        "start_time = time.time()\n",
        "print(\"--- %s seconds ---\" % (time.time() - start_time))"
      ]
    },
    {
      "cell_type": "code",
      "execution_count": 20,
      "metadata": {
        "id": "hjjYzQGjtbq8",
        "colab": {
          "base_uri": "https://localhost:8080/"
        },
        "outputId": "c4f2cd19-cf4e-434e-d5ab-d5b5272f11bc"
      },
      "outputs": [
        {
          "output_type": "execute_result",
          "data": {
            "text/plain": [
              "DataFrame[]"
            ]
          },
          "metadata": {},
          "execution_count": 20
        }
      ],
      "source": [
        "# 14. Uncache the home_sales temporary table.\n",
        "spark.sql(\"uncache table home_sales\")"
      ]
    },
    {
      "cell_type": "code",
      "execution_count": 21,
      "metadata": {
        "id": "Sy9NBvO7tlmm",
        "colab": {
          "base_uri": "https://localhost:8080/"
        },
        "outputId": "baecc0b3-5e68-4c55-a986-a3864a8b39d6"
      },
      "outputs": [
        {
          "output_type": "execute_result",
          "data": {
            "text/plain": [
              "False"
            ]
          },
          "metadata": {},
          "execution_count": 21
        }
      ],
      "source": [
        "# 15. Check if the home_sales is no longer cached\n",
        "spark.catalog.isCached('home_sales')"
      ]
    },
    {
      "cell_type": "code",
      "execution_count": null,
      "metadata": {
        "id": "Si-BNruRUGK3"
      },
      "outputs": [],
      "source": []
    }
  ],
  "metadata": {
    "colab": {
      "provenance": []
    },
    "gpuClass": "standard",
    "kernelspec": {
      "display_name": "Python 3 (ipykernel)",
      "language": "python",
      "name": "python3"
    },
    "language_info": {
      "codemirror_mode": {
        "name": "ipython",
        "version": 3
      },
      "file_extension": ".py",
      "mimetype": "text/x-python",
      "name": "python",
      "nbconvert_exporter": "python",
      "pygments_lexer": "ipython3",
      "version": "3.10.4"
    },
    "nteract": {
      "version": "0.28.0"
    }
  },
  "nbformat": 4,
  "nbformat_minor": 0
}